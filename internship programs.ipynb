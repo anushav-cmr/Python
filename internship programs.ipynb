{
 "cells": [
  {
   "cell_type": "code",
   "execution_count": 1,
   "id": "b566d5c7",
   "metadata": {},
   "outputs": [
    {
     "name": "stdout",
     "output_type": "stream",
     "text": [
      "5\n"
     ]
    }
   ],
   "source": [
    "#Easy 1\n",
    "#Given a string s consisting of words and spaces, return the length of the last word in the string.\n",
    "def findLength(str):\n",
    "    count = 0\n",
    "    flag = False\n",
    "    for i in range(len(str) - 1, -1, -1):\n",
    "        if ((str[i] >= 'a' and str[i] <= 'z') or (str[i] >= 'A' and str[i] <= 'Z')):\n",
    "            flag = True\n",
    "            count += 1\n",
    "        elif (flag == True):\n",
    "            return count\n",
    "    return count\n",
    " \n",
    " \n",
    "\n",
    "str = \"Hello World\"\n",
    "print(findLength(str))\n"
   ]
  },
  {
   "cell_type": "code",
   "execution_count": 3,
   "id": "1382cfc2",
   "metadata": {},
   "outputs": [
    {
     "name": "stdout",
     "output_type": "stream",
     "text": [
      "[3]\n"
     ]
    }
   ],
   "source": [
    "#Medium 2 \n",
    "#Given an integer array of size n, find all elements that appear more than ⌊ n/3 ⌋ times.\n",
    "\n",
    "nums = []\n",
    "\n",
    "def count(l): \n",
    "    counts = {}\n",
    "    for i in l:\n",
    "        if counts.get(i) is not None:\n",
    "            counts[i] += 1\n",
    "        else:\n",
    "            counts[i] = 1\n",
    "    return counts\n",
    "\n",
    "def more_than_N_by_3(counts, N):\n",
    "    result = []\n",
    "    for key in counts.keys():\n",
    "        if counts[key] > N//3:\n",
    "            result.append(key)\n",
    "    return result\n",
    "\n",
    "l = count(nums)\n",
    "print(more_than_N_by_3(l, len(nums)))\n"
   ]
  },
  {
   "cell_type": "code",
   "execution_count": 10,
   "id": "69b85016",
   "metadata": {},
   "outputs": [
    {
     "name": "stdout",
     "output_type": "stream",
     "text": [
      "6\n"
     ]
    }
   ],
   "source": [
    "#Hard 3\n",
    "#Given an integer n, count the total number of digit 1 appearing in all non-negative integers less than or equal to n.\n",
    "\n",
    "def countDigitOne(n):\n",
    "    countr = 0;\n",
    "    i = 1;\n",
    "    while(i <= n):\n",
    "        divider = i * 10;\n",
    "        countr += (int(n / divider) * i +\n",
    "                 min(max(n % divider -i +\n",
    "                              1, 0), i));\n",
    "        i *= 10;\n",
    "     \n",
    "    return countr;\n",
    " \n",
    "n = 13;\n",
    "print(countDigitOne(n));\n",
    "\n",
    "\n"
   ]
  },
  {
   "cell_type": "code",
   "execution_count": null,
   "id": "0e37cf38",
   "metadata": {},
   "outputs": [],
   "source": []
  }
 ],
 "metadata": {
  "kernelspec": {
   "display_name": "Python 3 (ipykernel)",
   "language": "python",
   "name": "python3"
  },
  "language_info": {
   "codemirror_mode": {
    "name": "ipython",
    "version": 3
   },
   "file_extension": ".py",
   "mimetype": "text/x-python",
   "name": "python",
   "nbconvert_exporter": "python",
   "pygments_lexer": "ipython3",
   "version": "3.9.12"
  }
 },
 "nbformat": 4,
 "nbformat_minor": 5
}
